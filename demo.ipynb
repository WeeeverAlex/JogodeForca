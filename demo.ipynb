{
 "cells": [
  {
   "cell_type": "code",
   "execution_count": 2,
   "metadata": {},
   "outputs": [],
   "source": [
    "import random\n",
    "class JogoDeForca:\n",
    "    def __init__(self):\n",
    "        import requests\n",
    "        url = 'https://www.ime.usp.br/~pf/dicios/br-sem-acentos.txt'\n",
    "        r = requests.get(url, allow_redirects=True)\n",
    "        if r.status_code==200:\n",
    "            self.content = str(r.content.decode()).split('\\n')\n",
    "        else:\n",
    "            print(\"Erro: \", r.status_code)\n",
    "    \n",
    "    def novo_jogo(self, vidas=5):\n",
    "        self.vidas = vidas\n",
    "        self.palavra = random.choice(self.content)\n",
    "        return len(self.palavra)\n",
    "\n",
    "    def tentar_letra(self, letra):\n",
    "        if self.vidas > 0:\n",
    "            if letra in self.palavra:\n",
    "                return [idx for idx in range(len(self.palavra)) if self.palavra[idx]==letra]\n",
    "            else:\n",
    "                self.vidas -= 1\n",
    "                if self.vidas == 0:\n",
    "                    print(\"Fim de jogo!\")\n",
    "                    return False\n",
    "                else:\n",
    "                    return []\n",
    "        \n",
    "    def tentar_palavra(self, palavra):\n",
    "        if self.vidas > 0:\n",
    "            if self.palavra == palavra:\n",
    "                print (\"Ganhou!\")\n",
    "                return True\n",
    "            else:\n",
    "                self.vidas = 0\n",
    "                print(\"Fim de jogo!\")\n",
    "                return False"
   ]
  },
  {
   "cell_type": "code",
   "execution_count": 36,
   "metadata": {},
   "outputs": [],
   "source": [
    "def main(jogo):\n",
    "    jogo.novo_jogo()\n",
    "\n",
    "    #filtrar as palavras com o mesmo tamanho da palavra escolhida aleatoriamente\n",
    "    palavras = [palavra for palavra in jogo.content if len(palavra) == len(jogo.palavra)]\n",
    "\n",
    "    #criar um dicionário com as letras e a quantidade de vezes que elas aparecem nas palavras filtradas\n",
    "\n",
    "    letras = {}\n",
    "\n",
    "    for palavra in palavras:\n",
    "\n",
    "        for letra in palavra:\n",
    "\n",
    "            if letra in letras:\n",
    "\n",
    "                letras[letra] += 1\n",
    "\n",
    "            else:\n",
    "\n",
    "                letras[letra] = 1\n",
    "\n",
    "    d_sorted_values = dict(sorted(letras.items(), key=lambda item: item[1],reverse=True))\n",
    "\n",
    "    \n",
    "\n",
    "    while jogo.vidas <5:\n",
    "        for letra in d_sorted_values.keys():\n",
    "            if jogo.tentar_letra(letra) != []:\n",
    "                if len(palavras) == 1:\n",
    "                    return jogo.tentar_palavra(palavras[0])\n",
    "                novas_palavras = []\n",
    "                freq_letra = len(jogo.tentar_letra(letra))\n",
    "                for palavra in palavras:\n",
    "                    if palavra.count(letra) == freq_letra:\n",
    "                        novas_palavras.append(palavra)\n",
    "                palavras = novas_palavras\n",
    "                break\n",
    "            else:\n",
    "                continue\n",
    "    return False\n"
   ]
  },
  {
   "cell_type": "code",
   "execution_count": 37,
   "metadata": {},
   "outputs": [
    {
     "name": "stdout",
     "output_type": "stream",
     "text": [
      "Vitórias:  0\n",
      "Derrotas:  100\n"
     ]
    }
   ],
   "source": [
    "jogo = JogoDeForca()\n",
    "vits = 0\n",
    "loss = 0\n",
    "\n",
    "for i in range(100):\n",
    "    if main(jogo) == True:\n",
    "        vits += 1\n",
    "    else:\n",
    "        loss += 1\n",
    "\n",
    "print(\"Vitórias: \", vits)\n",
    "print(\"Derrotas: \", loss)"
   ]
  },
  {
   "cell_type": "code",
   "execution_count": null,
   "metadata": {},
   "outputs": [],
   "source": []
  }
 ],
 "metadata": {
  "kernelspec": {
   "display_name": "Python 3.9.10 64-bit",
   "language": "python",
   "name": "python3"
  },
  "language_info": {
   "codemirror_mode": {
    "name": "ipython",
    "version": 3
   },
   "file_extension": ".py",
   "mimetype": "text/x-python",
   "name": "python",
   "nbconvert_exporter": "python",
   "pygments_lexer": "ipython3",
   "version": "3.9.10"
  },
  "orig_nbformat": 4,
  "vscode": {
   "interpreter": {
    "hash": "aee8b7b246df8f9039afb4144a1f6fd8d2ca17a180786b69acc140d282b71a49"
   }
  }
 },
 "nbformat": 4,
 "nbformat_minor": 2
}
